{
 "cells": [
  {
   "cell_type": "markdown",
   "id": "124dccf6",
   "metadata": {},
   "source": [
    "<b> 1. Linear Search Algorithm.</b>\n",
    "    \n",
    "     - Finding the correct position of a value in a given list, by accessing each item at a time and compairing it with the result."
   ]
  },
  {
   "cell_type": "code",
   "execution_count": 3,
   "id": "245fa077",
   "metadata": {},
   "outputs": [],
   "source": [
    "def locate_choice_linear(items, choice):\n",
    "    pos = 0\n",
    "    while pos < len(items):\n",
    "        if items[pos] == choice:\n",
    "            return pos\n",
    "        pos += 1\n",
    "    return -1"
   ]
  },
  {
   "cell_type": "markdown",
   "id": "0d6cfd25",
   "metadata": {},
   "source": [
    "This method isn't efficient as it consumes more time."
   ]
  },
  {
   "cell_type": "markdown",
   "id": "516a05d6",
   "metadata": {},
   "source": [
    "<b>2. Binary Search Algorithm.</b>\n",
    "\n",
    "    - Finding the correct position of a value in a given list (sorted in descending order), by acessing the items least no. of times"
   ]
  },
  {
   "cell_type": "code",
   "execution_count": 4,
   "id": "62466841",
   "metadata": {},
   "outputs": [],
   "source": [
    "def locate_choice(items, choice):\n",
    "    start, end = 0, len(items) - 1\n",
    "    \n",
    "    print({'items': items, \"choice\": choice})\n",
    "    \n",
    "    while start <= end:\n",
    "        # get the middle position\n",
    "        mid = (start + end) // 2\n",
    "        mid_num = items[mid]\n",
    "        \n",
    "        print(f\"Start: {start} | End: {end} | Mid: {mid} | Mid Num: {mid_num}\")\n",
    "        \n",
    "        if mid_num == choice:\n",
    "            return mid\n",
    "        # if the middle number is greater than choice then \n",
    "        # the value is probably right of the list\n",
    "        elif mid_num > choice:\n",
    "            start = mid + 1 \n",
    "        # if middle number is smaller than choice then\n",
    "        # the value is probably left of the list\n",
    "        elif mid_num < choice:\n",
    "            end = mid - 1\n",
    "    return -1\n",
    "            "
   ]
  },
  {
   "cell_type": "code",
   "execution_count": 3,
   "id": "df968a26",
   "metadata": {},
   "outputs": [],
   "source": [
    "tests = {\n",
    "    \"cases\": [\n",
    "        {\n",
    "            \"input\": {\n",
    "                \"items\": [22, 20, 18, 15, 14, 12, 10, 8, 5, 3, 2, 1],\n",
    "                \"choice\": 5\n",
    "            },\n",
    "            \"output\": 8\n",
    "        },\n",
    "        {\n",
    "            \"input\": {\n",
    "                \"items\": [12, 11, 9, 7, 6, 4, 3, 2, 0],\n",
    "                \"choice\": 11\n",
    "            },\n",
    "            \"output\": 1\n",
    "        },\n",
    "        {\n",
    "            \"input\": {\n",
    "                \"items\": [-127, -120, -50, -42, -32],\n",
    "                \"choice\": -50\n",
    "            },\n",
    "            \"output\": 2\n",
    "        },\n",
    "        {\n",
    "            \"input\": {\n",
    "                \"items\": [9, 9, 9, 8, 8, 8, 8, 6, 6, 6, 6, 6, 6, 4, 2],\n",
    "                \"choice\": 9\n",
    "            },\n",
    "            \"output\": 0\n",
    "        }\n",
    "    ]\n",
    "}"
   ]
  },
  {
   "cell_type": "code",
   "execution_count": 4,
   "id": "d3cd79c5",
   "metadata": {},
   "outputs": [
    {
     "name": "stdout",
     "output_type": "stream",
     "text": [
      "{'items': [22, 20, 18, 15, 14, 12, 10, 8, 5, 3, 2, 1], 'choice': 5}\n",
      "Start: 0 | End: 11 | Mid: 5 | Mid Num: 12\n",
      "Start: 6 | End: 11 | Mid: 8 | Mid Num: 5\n",
      "True\n",
      " Found value: 8 | Required value: 8\n",
      "\n",
      "{'items': [12, 11, 9, 7, 6, 4, 3, 2, 0], 'choice': 11}\n",
      "Start: 0 | End: 8 | Mid: 4 | Mid Num: 6\n",
      "Start: 0 | End: 3 | Mid: 1 | Mid Num: 11\n",
      "True\n",
      " Found value: 1 | Required value: 1\n",
      "\n",
      "{'items': [-127, -120, -50, -42, -32], 'choice': -50}\n",
      "Start: 0 | End: 4 | Mid: 2 | Mid Num: -50\n",
      "True\n",
      " Found value: 2 | Required value: 2\n",
      "\n",
      "{'items': [9, 9, 9, 8, 8, 8, 8, 6, 6, 6, 6, 6, 6, 4, 2], 'choice': 9}\n",
      "Start: 0 | End: 14 | Mid: 7 | Mid Num: 6\n",
      "Start: 0 | End: 6 | Mid: 3 | Mid Num: 8\n",
      "Start: 0 | End: 2 | Mid: 1 | Mid Num: 9\n",
      "False\n",
      " Found value: 1 | Required value: 0\n",
      "\n"
     ]
    }
   ],
   "source": [
    "for case in tests['cases']:\n",
    "    value = locate_choice(**case['input'])\n",
    "    print('True\\n' if value == case['output'] else 'False\\n', f\"Found value: {value} | Required \"\n",
    "          f\"value: {case['output']}\", end='\\n\\n')"
   ]
  },
  {
   "cell_type": "markdown",
   "id": "763adc81",
   "metadata": {},
   "source": [
    "The error occurred due to the occurance of same digit multiple times. So we make a new function ```check_location``` that checks whether a digit occurs before or after it and return the resulting decision."
   ]
  },
  {
   "cell_type": "code",
   "execution_count": 5,
   "id": "54bebb74",
   "metadata": {},
   "outputs": [],
   "source": [
    "def check_location(items, choice, mid):\n",
    "    mid_number = items[mid]\n",
    "    if mid_number == choice:\n",
    "        # if the digit before the mid numbe is same as the choice, there might be\n",
    "        # repetation of that digit before the mid number (left of the mid number)\n",
    "        if mid-1 >= 0 and items[mid-1] == choice:\n",
    "            return 'left'\n",
    "        # else the digit is the first occurance and that's what we want\n",
    "        else:\n",
    "            return 'found'\n",
    "    elif mid_number < choice:\n",
    "        return 'left'\n",
    "    else:\n",
    "        return 'right'"
   ]
  },
  {
   "cell_type": "markdown",
   "id": "9b80c19d",
   "metadata": {},
   "source": [
    "Now we implement the above function in our new function ```new_locate_choice```."
   ]
  },
  {
   "cell_type": "code",
   "execution_count": 6,
   "id": "5957f175",
   "metadata": {},
   "outputs": [],
   "source": [
    "def new_locate_choice(items, choice):\n",
    "    start, end = 0, len(items) - 1\n",
    "    \n",
    "    print({'items': items, \"choice\": choice})\n",
    "    \n",
    "    while start <= end:\n",
    "        # get the middle position\n",
    "        mid = (start + end) // 2\n",
    "        mid_num = items[mid]\n",
    "        print(f\"Start: {start} | End: {end} | Mid: {mid} | Mid Num: {mid_num}\")\n",
    "        result = check_location(items, choice, mid)\n",
    "        \n",
    "        if result == 'found':\n",
    "            return mid\n",
    "        \n",
    "        elif result == 'left':\n",
    "            end = mid - 1\n",
    "        \n",
    "        elif result == 'right':\n",
    "            start = mid + 1 \n",
    "    return -1\n",
    "            "
   ]
  },
  {
   "cell_type": "code",
   "execution_count": 7,
   "id": "a76a4747",
   "metadata": {},
   "outputs": [
    {
     "name": "stdout",
     "output_type": "stream",
     "text": [
      "{'items': [22, 20, 18, 15, 14, 12, 10, 8, 5, 3, 2, 1], 'choice': 5}\n",
      "Start: 0 | End: 11 | Mid: 5 | Mid Num: 12\n",
      "Start: 6 | End: 11 | Mid: 8 | Mid Num: 5\n",
      "True\n",
      " Found value: 8 | Requiredvalue: 8\n",
      "\n",
      "{'items': [12, 11, 9, 7, 6, 4, 3, 2, 0], 'choice': 11}\n",
      "Start: 0 | End: 8 | Mid: 4 | Mid Num: 6\n",
      "Start: 0 | End: 3 | Mid: 1 | Mid Num: 11\n",
      "True\n",
      " Found value: 1 | Requiredvalue: 1\n",
      "\n",
      "{'items': [-127, -120, -50, -42, -32], 'choice': -50}\n",
      "Start: 0 | End: 4 | Mid: 2 | Mid Num: -50\n",
      "True\n",
      " Found value: 2 | Requiredvalue: 2\n",
      "\n",
      "{'items': [9, 9, 9, 8, 8, 8, 8, 6, 6, 6, 6, 6, 6, 4, 2], 'choice': 9}\n",
      "Start: 0 | End: 14 | Mid: 7 | Mid Num: 6\n",
      "Start: 0 | End: 6 | Mid: 3 | Mid Num: 8\n",
      "Start: 0 | End: 2 | Mid: 1 | Mid Num: 9\n",
      "Start: 0 | End: 0 | Mid: 0 | Mid Num: 9\n",
      "True\n",
      " Found value: 0 | Requiredvalue: 0\n",
      "\n"
     ]
    }
   ],
   "source": [
    "for case in tests['cases']:\n",
    "    value = new_locate_choice(**case['input'])\n",
    "    print('True\\n' if value == case['output'] else 'False\\n', f\"Found value: {value} | Required\"\n",
    "          f\"value: {case['output']}\", end='\\n\\n')"
   ]
  },
  {
   "cell_type": "markdown",
   "id": "41b9fee9",
   "metadata": {},
   "source": [
    "<b>3. Linear Search VS Binary Search"
   ]
  },
  {
   "cell_type": "markdown",
   "id": "834cafee",
   "metadata": {},
   "source": [
    "```new_locate_choice``` without print statements."
   ]
  },
  {
   "cell_type": "code",
   "execution_count": 8,
   "id": "8c531fb1",
   "metadata": {},
   "outputs": [],
   "source": [
    "def new_locate_choice(items, choice):\n",
    "    start, end = 0, len(items) - 1    \n",
    "    while start <= end:\n",
    "        # get the middle position\n",
    "        mid = (start + end) // 2\n",
    "        mid_num = items[mid]\n",
    "        result = check_location(items, choice, mid)\n",
    "        \n",
    "        if result == 'found':\n",
    "            return mid\n",
    "        \n",
    "        elif result == 'left':\n",
    "            end = mid - 1\n",
    "        \n",
    "        elif result == 'right':\n",
    "            start = mid + 1 \n",
    "    return -1"
   ]
  },
  {
   "cell_type": "code",
   "execution_count": 9,
   "id": "068965e1",
   "metadata": {},
   "outputs": [
    {
     "name": "stdout",
     "output_type": "stream",
     "text": [
      "Start: 14.871995s | End: 14.871995s | Time: 0.0s\n",
      "True\n",
      "Start: 14.871995s | End: 18.183924s | Time: -3.311929000000001s\n",
      "True\n"
     ]
    }
   ],
   "source": [
    "test = {\n",
    "    \"input\": {\n",
    "        \"items\": list(range(10000000, 0, -1)),\n",
    "       \"choice\": 2\n",
    "    },\n",
    "    \"output\": 9999998\n",
    "}\n",
    "\n",
    "import time\n",
    "import datetime\n",
    "\n",
    "\n",
    "def calc_time(func, **kwargs):\n",
    "    if kwargs is None:\n",
    "        sec = float(str(datetime.datetime.fromtimestamp(time.time())).split(\":\")[-1])\n",
    "        val = func()\n",
    "        esec = float(str(datetime.datetime.fromtimestamp(time.time())).split(\":\")[-1])\n",
    "        print(f\"Start: {sec}s | End: {esec}s | Time: {sec-esec}s\")\n",
    "        return val\n",
    "    \n",
    "    sec = float(str(datetime.datetime.fromtimestamp(time.time())).split(\":\")[-1])\n",
    "    val = func(**kwargs)\n",
    "    esec = float(str(datetime.datetime.fromtimestamp(time.time())).split(\":\")[-1])\n",
    "    print(f\"Start: {sec}s | End: {esec}s | Time: {sec-esec}s\")\n",
    "    return val\n",
    "\n",
    "result = calc_time(new_locate_choice, **test['input'])\n",
    "print(True if result == test['output'] else False)\n",
    "result = calc_time(locate_choice_linear, **test['input'])\n",
    "print(True if result == test['output'] else False)\n",
    " "
   ]
  },
  {
   "cell_type": "markdown",
   "id": "0f2b0c5b",
   "metadata": {},
   "source": [
    "Binary Search is better than Linear Search\n",
    "<br>\n",
    "Here is the generic binary search algorithm:"
   ]
  },
  {
   "cell_type": "code",
   "execution_count": 10,
   "id": "c8fbe66d",
   "metadata": {},
   "outputs": [],
   "source": [
    "def binary_search(start, end, condition):\n",
    "    while start <= end:\n",
    "        # get the middle position\n",
    "        mid = (start + end) // 2\n",
    "        result = condition(mid)\n",
    "        if result == 'found':\n",
    "            return mid\n",
    "        elif result == 'left':\n",
    "            end = mid - 1\n",
    "        else:\n",
    "            start = mid + 1 \n",
    "    return -1"
   ]
  },
  {
   "cell_type": "markdown",
   "id": "88b3ca99",
   "metadata": {},
   "source": [
    "The above ```binary_search``` function can be applied for any operation where we need it and is not limited to only arrays.<br>\n",
    "The implementation of the above code is given below:"
   ]
  },
  {
   "cell_type": "code",
   "execution_count": 11,
   "id": "19e2a00b",
   "metadata": {},
   "outputs": [],
   "source": [
    "def find_position(items, choice):\n",
    "    \n",
    "    def condition(mid):\n",
    "        if items[mid] == choice:\n",
    "            if mid-1 >= 0 and items[mid-1] == choice:\n",
    "                return 'left'\n",
    "            else:\n",
    "                return 'found'\n",
    "        elif items[mid] < choice:\n",
    "            return 'left'\n",
    "        else:\n",
    "            return 'right'\n",
    "    return binary_search(0, len(items) - 1, condition)\n",
    "        "
   ]
  },
  {
   "cell_type": "code",
   "execution_count": 12,
   "id": "14556187",
   "metadata": {},
   "outputs": [
    {
     "name": "stdout",
     "output_type": "stream",
     "text": [
      "Start: 21.797257s | End: 21.797257s | Time: 0.0s\n",
      "True\n",
      "Start: 21.797257s | End: 21.797257s | Time: 0.0s\n",
      "True\n",
      "Start: 21.797257s | End: 21.797257s | Time: 0.0s\n",
      "True\n",
      "Start: 21.797257s | End: 21.797257s | Time: 0.0s\n",
      "True\n"
     ]
    }
   ],
   "source": [
    "for case in tests['cases']:\n",
    "    print(True if calc_time(find_position, **case['input']) == \n",
    "          case['output'] else False)"
   ]
  },
  {
   "cell_type": "markdown",
   "id": "fd7a348a",
   "metadata": {},
   "source": [
    "<b>Practice:</b><br>\n",
    "Given a rotated sorted list, find the minimum number of times the list was rotated.\n",
    "    \n",
    "    - A rotated list is obtained by moving the last element of the list to the beginning of the list.\n",
    "    e.g. [1, 2, 3, 4, 5, 6, 7, 8] -> [6, 7, 8, 1, 2, 3, 4, 5]. Here the list was rotated 3 times."
   ]
  },
  {
   "cell_type": "code",
   "execution_count": 46,
   "id": "65ae57e4",
   "metadata": {},
   "outputs": [],
   "source": [
    "nums_test = [\n",
    "    {\n",
    "        \"nums\": [6, 7, 8, 1, 2, 3, 4, 5],\n",
    "        \"output\": 3\n",
    "    },\n",
    "    {\n",
    "        \"nums\": [11, 13, 14, 1, 2, 3, 5, 7, 9],\n",
    "        \"output\": 3\n",
    "    },\n",
    "    {\n",
    "        \"nums\": [-3, -2, -1, -9, -8, -4],\n",
    "        \"output\": 3\n",
    "    },\n",
    "    {\n",
    "        \"nums\": [0, 1, 2, 3, 4, 5, 7, 8],\n",
    "        \"output\": 0\n",
    "    }\n",
    "]"
   ]
  },
  {
   "cell_type": "markdown",
   "id": "0fd78161",
   "metadata": {},
   "source": [
    "Using linear search method!"
   ]
  },
  {
   "cell_type": "code",
   "execution_count": 47,
   "id": "148007c9",
   "metadata": {},
   "outputs": [],
   "source": [
    "def nums_rotated_linear(nums):\n",
    "    pos = 0\n",
    "    while pos < len(nums):\n",
    "        # check is number at pos is the smallest\n",
    "        if pos > 0 and nums[pos] < nums[pos-1]:\n",
    "            # if it is then we return it\n",
    "            return pos\n",
    "        # if not we increase it\n",
    "        pos += 1\n",
    "    return 0"
   ]
  },
  {
   "cell_type": "code",
   "execution_count": 49,
   "id": "637b8c21",
   "metadata": {},
   "outputs": [
    {
     "name": "stdout",
     "output_type": "stream",
     "text": [
      "Start: 32.739083s | End: 32.739083s | Time: 0.0s\n",
      "True\n",
      "Start: 32.739083s | End: 32.739083s | Time: 0.0s\n",
      "True\n",
      "Start: 32.739083s | End: 32.739083s | Time: 0.0s\n",
      "True\n",
      "Start: 32.739083s | End: 32.739083s | Time: 0.0s\n",
      "True\n"
     ]
    }
   ],
   "source": [
    "for test in nums_test:\n",
    "    print(True if calc_time(nums_rotated_linear, nums=test['nums']) == test['output'] else False)"
   ]
  },
  {
   "cell_type": "markdown",
   "id": "73a14d93",
   "metadata": {},
   "source": [
    "The above method has worst-case complexity of O(N)."
   ]
  },
  {
   "cell_type": "markdown",
   "id": "d5ad6e2c",
   "metadata": {},
   "source": [
    "Using binary search method!"
   ]
  },
  {
   "cell_type": "code",
   "execution_count": 1,
   "id": "9ed4556f",
   "metadata": {},
   "outputs": [],
   "source": [
    "def nums_rotated_binary(nums):\n",
    "    lo = 0\n",
    "    hi = len(nums) - 1\n",
    "    \n",
    "    while lo <= hi:\n",
    "        mid = (lo + hi) // 2\n",
    "        \n",
    "        if (nums[mid] < nums[mid + 1]) and (nums[mid] < nums[mid - 1]):\n",
    "            return mid\n",
    "        \n",
    "        elif nums[mid]  <= nums[hi]:\n",
    "            hi = mid - 1\n",
    "\n",
    "        elif nums[mid] >= nums[lo]:\n",
    "            lo = mid + 1\n",
    "    return 0"
   ]
  },
  {
   "cell_type": "code",
   "execution_count": 2,
   "id": "4777ba23",
   "metadata": {},
   "outputs": [
    {
     "ename": "NameError",
     "evalue": "name 'nums_test' is not defined",
     "output_type": "error",
     "traceback": [
      "\u001b[1;31m---------------------------------------------------------------------------\u001b[0m",
      "\u001b[1;31mNameError\u001b[0m                                 Traceback (most recent call last)",
      "Input \u001b[1;32mIn [2]\u001b[0m, in \u001b[0;36m<cell line: 1>\u001b[1;34m()\u001b[0m\n\u001b[1;32m----> 1\u001b[0m \u001b[38;5;28;01mfor\u001b[39;00m test \u001b[38;5;129;01min\u001b[39;00m \u001b[43mnums_test\u001b[49m:\n\u001b[0;32m      2\u001b[0m     \u001b[38;5;28mprint\u001b[39m(\u001b[38;5;28;01mTrue\u001b[39;00m \u001b[38;5;28;01mif\u001b[39;00m calc_time(nums_rotated_binary, nums\u001b[38;5;241m=\u001b[39mtest[\u001b[38;5;124m'\u001b[39m\u001b[38;5;124mnums\u001b[39m\u001b[38;5;124m'\u001b[39m]) \u001b[38;5;241m==\u001b[39m test[\u001b[38;5;124m'\u001b[39m\u001b[38;5;124moutput\u001b[39m\u001b[38;5;124m'\u001b[39m] \u001b[38;5;28;01melse\u001b[39;00m \u001b[38;5;28;01mFalse\u001b[39;00m)\n",
      "\u001b[1;31mNameError\u001b[0m: name 'nums_test' is not defined"
     ]
    }
   ],
   "source": [
    "for test in nums_test:\n",
    "    print(True if calc_time(nums_rotated_binary, nums=test['nums']) == test['output'] else False)"
   ]
  }
 ],
 "metadata": {
  "kernelspec": {
   "display_name": "Python 3 (ipykernel)",
   "language": "python",
   "name": "python3"
  },
  "language_info": {
   "codemirror_mode": {
    "name": "ipython",
    "version": 3
   },
   "file_extension": ".py",
   "mimetype": "text/x-python",
   "name": "python",
   "nbconvert_exporter": "python",
   "pygments_lexer": "ipython3",
   "version": "3.9.0"
  },
  "widgets": {
   "application/vnd.jupyter.widget-state+json": {
    "state": {},
    "version_major": 2,
    "version_minor": 0
   }
  }
 },
 "nbformat": 4,
 "nbformat_minor": 5
}
